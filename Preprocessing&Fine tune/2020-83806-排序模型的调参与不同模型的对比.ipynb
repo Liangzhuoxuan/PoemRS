{
 "cells": [
  {
   "cell_type": "markdown",
   "metadata": {
    "toc": true
   },
   "source": [
    "<h1>Table of Contents<span class=\"tocSkip\"></span></h1>\n",
    "<div class=\"toc\"><ul class=\"toc-item\"><li><span><a href=\"#数据准备\" data-toc-modified-id=\"数据准备-1\"><span class=\"toc-item-num\">1&nbsp;&nbsp;</span>数据准备</a></span></li><li><span><a href=\"#LR\" data-toc-modified-id=\"LR-2\"><span class=\"toc-item-num\">2&nbsp;&nbsp;</span>LR</a></span></li><li><span><a href=\"#FM\" data-toc-modified-id=\"FM-3\"><span class=\"toc-item-num\">3&nbsp;&nbsp;</span>FM</a></span></li><li><span><a href=\"#Xgboost-+-LR\" data-toc-modified-id=\"Xgboost-+-LR-4\"><span class=\"toc-item-num\">4&nbsp;&nbsp;</span>Xgboost + LR</a></span></li><li><span><a href=\"#Xgboost-调参\" data-toc-modified-id=\"Xgboost-调参-5\"><span class=\"toc-item-num\">5&nbsp;&nbsp;</span>Xgboost 调参</a></span><ul class=\"toc-item\"><li><span><a href=\"#初始化参数\" data-toc-modified-id=\"初始化参数-5.1\"><span class=\"toc-item-num\">5.1&nbsp;&nbsp;</span>初始化参数</a></span></li><li><span><a href=\"#max_depth-和-min_weight-参数调优\" data-toc-modified-id=\"max_depth-和-min_weight-参数调优-5.2\"><span class=\"toc-item-num\">5.2&nbsp;&nbsp;</span>max_depth 和 min_weight 参数调优</a></span></li><li><span><a href=\"#gamma参数调优\" data-toc-modified-id=\"gamma参数调优-5.3\"><span class=\"toc-item-num\">5.3&nbsp;&nbsp;</span>gamma参数调优</a></span></li><li><span><a href=\"#调整subsample-和-colsample_bytree-参数\" data-toc-modified-id=\"调整subsample-和-colsample_bytree-参数-5.4\"><span class=\"toc-item-num\">5.4&nbsp;&nbsp;</span>调整subsample 和 colsample_bytree 参数</a></span></li><li><span><a href=\"#调整正则项系数\" data-toc-modified-id=\"调整正则项系数-5.5\"><span class=\"toc-item-num\">5.5&nbsp;&nbsp;</span>调整正则项系数</a></span></li><li><span><a href=\"#降低学习率\" data-toc-modified-id=\"降低学习率-5.6\"><span class=\"toc-item-num\">5.6&nbsp;&nbsp;</span>降低学习率</a></span></li><li><span><a href=\"#增加基模型的数量\" data-toc-modified-id=\"增加基模型的数量-5.7\"><span class=\"toc-item-num\">5.7&nbsp;&nbsp;</span>增加基模型的数量</a></span></li></ul></li><li><span><a href=\"#LR调参\" data-toc-modified-id=\"LR调参-6\"><span class=\"toc-item-num\">6&nbsp;&nbsp;</span>LR调参</a></span></li><li><span><a href=\"#模型ROC曲线\" data-toc-modified-id=\"模型ROC曲线-7\"><span class=\"toc-item-num\">7&nbsp;&nbsp;</span>模型ROC曲线</a></span></li><li><span><a href=\"#Xgboost-+-FM\" data-toc-modified-id=\"Xgboost-+-FM-8\"><span class=\"toc-item-num\">8&nbsp;&nbsp;</span>Xgboost + FM</a></span></li><li><span><a href=\"#汇总\" data-toc-modified-id=\"汇总-9\"><span class=\"toc-item-num\">9&nbsp;&nbsp;</span>汇总</a></span></li><li><span><a href=\"#不同模型的评估指标对比\" data-toc-modified-id=\"不同模型的评估指标对比-10\"><span class=\"toc-item-num\">10&nbsp;&nbsp;</span>不同模型的评估指标对比</a></span></li><li><span><a href=\"#对-Xgboost+FM进行调参处理，得到-log_loss-最小的那个模型\" data-toc-modified-id=\"对-Xgboost+FM进行调参处理，得到-log_loss-最小的那个模型-11\"><span class=\"toc-item-num\">11&nbsp;&nbsp;</span>对 Xgboost+FM进行调参处理，得到 log_loss 最小的那个模型</a></span></li></ul></div>"
   ]
  },
  {
   "cell_type": "markdown",
   "metadata": {
    "ExecuteTime": {
     "end_time": "2020-03-21T06:16:23.103165Z",
     "start_time": "2020-03-21T06:16:23.100766Z"
    }
   },
   "source": [
    "## 数据准备"
   ]
  },
  {
   "cell_type": "code",
   "execution_count": 1,
   "metadata": {
    "ExecuteTime": {
     "end_time": "2020-05-14T01:28:16.628809Z",
     "start_time": "2020-05-14T01:28:11.077310Z"
    }
   },
   "outputs": [],
   "source": [
    "import numpy as np\n",
    "import pandas as pd\n",
    "import matplotlib.pyplot as plt\n",
    "import seaborn as sns\n",
    "from sklearn.model_selection import train_test_split\n",
    "from sklearn.model_selection import ShuffleSplit\n",
    "from sklearn.metrics import f1_score\n",
    "\n",
    "\n",
    "dataset = pd.read_csv(\"./train_sort_model_dataset.csv\")\n",
    "dataset.drop(\"Unnamed: 0\", axis=1, inplace=True)\n",
    "# dataset.drop(\"poemId\", axis=1, inplace=True)\n",
    "\n",
    "# 你会发现，热门数据起着主导作用，做了归一化之后各种指标都下去了\n",
    "# poemStar做归一化\n",
    "min_max_scaler = lambda x: (x-np.min(x)) / (np.max(x)-np.min(x))\n",
    "dataset[\"poemStar\"] = dataset[[\"poemStar\"]].apply(min_max_scaler)\n",
    "# dataset[\"rating\"] = dataset[[\"rating\"]].apply(min_max_scaler)\n",
    "dataset.drop(\"rating\",axis=1, inplace=True)\n",
    "\n",
    "X, y = dataset.drop(\"label\", axis=1), dataset.label\n",
    "X = X.values\n",
    "y = y.values"
   ]
  },
  {
   "cell_type": "markdown",
   "metadata": {
    "ExecuteTime": {
     "end_time": "2020-03-21T06:25:53.357968Z",
     "start_time": "2020-03-21T06:25:53.353306Z"
    }
   },
   "source": [
    "## LR"
   ]
  },
  {
   "cell_type": "code",
   "execution_count": 2,
   "metadata": {
    "ExecuteTime": {
     "end_time": "2020-05-14T01:30:00.669389Z",
     "start_time": "2020-05-14T01:29:59.819350Z"
    }
   },
   "outputs": [
    {
     "name": "stdout",
     "output_type": "stream",
     "text": [
      "Validation log loss: 0.6404\n",
      "Validation accuracy: 0.6717\n",
      "Validation auc:0.6905\n"
     ]
    }
   ],
   "source": [
    "from sklearn.linear_model import LogisticRegression\n",
    "from sklearn.model_selection import cross_val_score\n",
    "from sklearn.metrics import roc_curve\n",
    "from sklearn.metrics import auc\n",
    "\n",
    "\n",
    "cv = ShuffleSplit(n_splits=5, test_size=0.3, random_state=20)\n",
    "lr_model = LogisticRegression()\n",
    "\n",
    "# neg_log_loss 算的是负样本的 log_loss，其实就是在 log_loss 取负数\n",
    "lr_acc = cross_val_score(lr_model, X, y, cv=cv).mean()\n",
    "lr_auc = cross_val_score(lr_model, X, y, cv=cv, scoring=\"roc_auc\").mean()\n",
    "lr_log_loss = -cross_val_score(lr_model, X, y, cv=cv, scoring=\"neg_log_loss\").mean()\n",
    "\n",
    "print(\"Validation log loss: %.4f\" % lr_log_loss)\n",
    "print(\"Validation accuracy: %.4f\" % lr_acc)\n",
    "print(\"Validation auc:%.4f\" % lr_auc)\n",
    "\n",
    "lr_fpr_list = []\n",
    "lr_tpr_list = []\n",
    "\n",
    "# 控制变量\n",
    "# 统一以最后一则交叉验证作为 histgram 的可视化\n",
    "for index, fold in enumerate(cv.split(X)):\n",
    "    \n",
    "    train_data_index, test_data_index = fold\n",
    "    X_train = X[train_data_index, :]\n",
    "    y_train = y[train_data_index]\n",
    "    X_test = X[test_data_index, :]\n",
    "    y_test = y[test_data_index]\n",
    "\n",
    "    LR = LogisticRegression()\n",
    "    LR.fit(X_train, y_train)\n",
    "    lr_y_pred_proba = LR.predict_proba(X_test)\n",
    "#     if index == 4:\n",
    "#         plt.figure(figsize=(10,5))\n",
    "#         plt.xlabel(\"LogisticRegression predict probability histgram\")\n",
    "#         sns.distplot(lr_y_pred_proba, bins=20)\n",
    "        \n",
    "#         # 因为 AUC 都是 1，绘制 ROC 曲线其实没有太大的意义\n",
    "#         plt.figure(figsize=(5,5))\n",
    "#         fpr, tpr, threshold = roc_curve(y_test, LR.predict(X_test))\n",
    "#         plt.plot(fpr, tpr, c='r')\n",
    "#         plt.plot([0,1], [0,1], 'k--')\n",
    "    fpr, tpr, threshold = roc_curve(y_test, LR.predict(X_test))\n",
    "    lr_fpr_list.append(fpr);lr_tpr_list.append(tpr)"
   ]
  },
  {
   "cell_type": "code",
   "execution_count": 3,
   "metadata": {
    "ExecuteTime": {
     "end_time": "2020-05-14T01:30:08.921844Z",
     "start_time": "2020-05-14T01:30:08.316516Z"
    }
   },
   "outputs": [
    {
     "data": {
      "text/plain": [
       "<matplotlib.legend.Legend at 0x7fa7e9425c10>"
      ]
     },
     "execution_count": 3,
     "metadata": {},
     "output_type": "execute_result"
    },
    {
     "data": {
      "image/png": "[encoded data removed]",
      "text/plain": [
       "<Figure size 576x576 with 1 Axes>"
      ]
     },
     "metadata": {
      "needs_background": "light"
     },
     "output_type": "display_data"
    }
   ],
   "source": [
    "lr_fpr = sum(lr_fpr_list)/5\n",
    "lr_tpr = sum(lr_tpr_list)/5\n",
    "# lw = 2\n",
    "\n",
    "plt.figure(figsize=(8,8))\n",
    "plt.plot(lr_fpr, lr_tpr, color='darkorange',\n",
    "         label='ROC curve of LR (area = {0:0.4f}'.format(auc(lr_fpr, lr_tpr)))\n",
    "plt.plot([0, 1], [0, 1], color='navy', linestyle='--')\n",
    "plt.xlim([0.0, 1.0])\n",
    "plt.ylim([0.0, 1.00])\n",
    "plt.legend()"
   ]
  },
  {
   "cell_type": "markdown",
   "metadata": {},
   "source": [
    "## FM"
   ]
  },
  {
   "cell_type": "code",
   "execution_count": 29,
   "metadata": {
    "ExecuteTime": {
     "end_time": "2020-05-12T02:45:10.704494Z",
     "start_time": "2020-05-12T02:45:10.598152Z"
    }
   },
   "outputs": [],
   "source": [
    "store_list = []\n",
    "\n",
    "for i in X:\n",
    "    d = dict()\n",
    "    for index, j in enumerate(i):\n",
    "        d[index] = j\n",
    "    store_list.append(d)"
   ]
  },
  {
   "cell_type": "markdown",
   "metadata": {},
   "source": [
    "num_factors : int, The dimensionality of the factorized 2-way interactions<br>\n",
    "num_iter : int, 迭代次数<br>\n",
    "learning_rate_schedule（可选参数） : string类型, 学习率迭代参数值:<br>\n",
    "constant: η=η0<br>\n",
    "optimal: η=1t+t0 [default]<br>\n",
    "invscaling: η=η0/pow(t,power_t)<br>\n",
    "initial_learning_rate : double, 初始时的学习率，默认等于 0.01<br>\n",
    "task : 模型任务类型，string<br>\n",
    "regression: Labels 为实数值.<br>\n",
    "classification: Labels 为1或0.<br>\n",
    "verbose : bool，是否需要打印当前迭代时的训练误差（training error）.<br>\n",
    "power_t : double, The exponent for inverse scaling learning rate [默认值 0.5].<br>\n",
    "t0 : double，learning_rate_schedule的初始值. 默认值 0.001.<br>"
   ]
  },
  {
   "cell_type": "code",
   "execution_count": 30,
   "metadata": {
    "ExecuteTime": {
     "end_time": "2020-05-12T02:47:11.539198Z",
     "start_time": "2020-05-12T02:45:23.566424Z"
    }
   },
   "outputs": [
    {
     "name": "stdout",
     "output_type": "stream",
     "text": [
      "Validation log loss: 0.6436\n",
      "Validation accuracy: 0.6650\n",
      "Validation auc:0.6763\n"
     ]
    },
    {
     "data": {
      "text/plain": [
       "(0.0, 1.0)"
      ]
     },
     "execution_count": 30,
     "metadata": {},
     "output_type": "execute_result"
    },
    {
     "data": {
      "image/png": "[encoded data removed]",
      "text/plain": [
       "<Figure size 720x720 with 1 Axes>"
      ]
     },
     "metadata": {},
     "output_type": "display_data"
    }
   ],
   "source": [
    "from sklearn.feature_extraction import DictVectorizer\n",
    "from pyfm import pylibfm\n",
    "from sklearn.metrics import roc_auc_score\n",
    "from sklearn.metrics import log_loss, accuracy_score\n",
    "\n",
    "sns.set(style=\"whitegrid\")\n",
    "cv = ShuffleSplit(n_splits=5, test_size=0.3, random_state=20)\n",
    "\n",
    "log_loss_y = []\n",
    "acc_y = []\n",
    "auc_y = []\n",
    "counter = 0\n",
    "\n",
    "fm_fpr_list = []\n",
    "fm_tpr_list = []\n",
    "\n",
    "for fold in cv.split(store_list):\n",
    "    train_data_index, test_data_index = fold\n",
    "    X_train = []\n",
    "    X_test = []\n",
    "    y_train = []\n",
    "    y_test = []\n",
    "    for index in train_data_index:\n",
    "        X_train.append(store_list[index])\n",
    "        y_train.append(y[index])\n",
    "        \n",
    "    for index in test_data_index:\n",
    "        X_test.append(store_list[index])\n",
    "        y_test.append(y[index])\n",
    "    \n",
    "    v = DictVectorizer()\n",
    "    X_train = v.fit_transform(X_train)\n",
    "    X_test = v.transform(X_test)\n",
    "    \n",
    "    fm = pylibfm.FM(num_factors=10, \n",
    "                num_iter=20, \n",
    "                verbose=False, \n",
    "                task=\"classification\", \n",
    "                initial_learning_rate=0.01, \n",
    "                learning_rate_schedule=\"optimal\"\n",
    "               )\n",
    "    fm.fit(X_train, y_train)\n",
    "\n",
    "    y_pred_proba = fm.predict(X_test)\n",
    "    y_preds_label = y_pred_proba > 0.5\n",
    "    \n",
    "    fpr, tpr, threshold = roc_curve(y_test, y_preds_label)\n",
    "    fm_fpr_list.append(fpr);fm_tpr_list.append(tpr)\n",
    "\n",
    "#     if counter == 4:\n",
    "#         plt.figure(figsize=(10,5))\n",
    "#         plt.xlabel(\"Factorization Machine predict probability histgram\")\n",
    "#         sns.distplot(y_pred_proba, bins=20)\n",
    "#     counter += 1\n",
    "    \n",
    "    _log_loss = log_loss(y_test, y_pred_proba)\n",
    "    _acc = accuracy_score(y_test, y_preds_label)\n",
    "    _auc = roc_auc_score(y_test, y_pred_proba)\n",
    "    log_loss_y.append(_log_loss)\n",
    "    acc_y.append(_acc)\n",
    "    auc_y.append(_auc)\n",
    "\n",
    "\n",
    "fm_log_loss = np.array(log_loss_y).mean()\n",
    "fm_acc = np.array(acc_y).mean()\n",
    "fm_auc = np.array(auc_y).mean()\n",
    "print(\"Validation log loss: %.4f\" % fm_log_loss)\n",
    "print(\"Validation accuracy: %.4f\" % fm_acc)\n",
    "print(\"Validation auc:%.4f\" % fm_auc)\n",
    "\n",
    "fm_y_pred_proba = y_pred_proba\n",
    "\n",
    "\n",
    "fm_fpr = sum(fm_fpr_list)/5\n",
    "fm_tpr = sum(fm_tpr_list)/5\n",
    "# lw = 2\n",
    "\n",
    "plt.figure(figsize=(10,10))\n",
    "plt.plot(fm_fpr, fm_tpr, color='darkorange',\n",
    "         ) ###假正率为横坐标，真正率为纵坐标做曲线\n",
    "plt.plot([0, 1], [0, 1], color='green', linestyle='--')\n",
    "plt.xlim([0.0, 1.0])\n",
    "plt.ylim([0.0, 1.0])"
   ]
  },
  {
   "cell_type": "markdown",
   "metadata": {},
   "source": [
    "## Xgboost + LR"
   ]
  },
  {
   "cell_type": "code",
   "execution_count": 4,
   "metadata": {
    "ExecuteTime": {
     "end_time": "2020-05-14T01:30:21.846302Z",
     "start_time": "2020-05-14T01:30:21.044846Z"
    },
    "scrolled": true
   },
   "outputs": [
    {
     "data": {
      "text/plain": [
       "array([0.02492031, 0.        , 0.        , ..., 0.00769823, 0.        ,\n",
       "       0.01461484], dtype=float32)"
      ]
     },
     "execution_count": 4,
     "metadata": {},
     "output_type": "execute_result"
    }
   ],
   "source": [
    "import xgboost as xgb\n",
    "from xgboost import plot_importance\n",
    "from sklearn.preprocessing import OneHotEncoder\n",
    "\n",
    "model = xgb.XGBClassifier(nthread=4,     #含义：nthread=-1时，使用全部CPU进行并行运算（默认）, nthread=1时，使用1个CPU进行运算。\n",
    "                          learning_rate=0.03,    #含义：学习率，控制每次迭代更新权重时的步长，默认0.3。调参：值越小，训练越慢。典型值为0.01-0.2。\n",
    "                          n_estimators=100,       #含义：总共迭代的次数，即决策树的个数\n",
    "                          max_depth=4,           #含义：树的深度，默认值为6，典型值3-10。调参：值越大，越容易过拟合；值越小，越容易欠拟合\n",
    "                          gamma=0,               #含义：惩罚项系数，指定节点分裂所需的最小损失函数下降值。\n",
    "                          subsample=0.5,       #含义：训练每棵树时，使用的数据占全部训练集的比例。默认值为1，典型值为0.5-1。调参：防止overfitting。\n",
    "                          colsample_bytree=0.5,#训练每棵树时，使用的特征占全部特征的比例。默认值为1，典型值为0.5-1。调参：防止overfitting。\n",
    "                         )\n",
    "\n",
    "model.fit(X, y)\n",
    "model.feature_importances_"
   ]
  },
  {
   "cell_type": "markdown",
   "metadata": {},
   "source": [
    "## Xgboost 调参"
   ]
  },
  {
   "cell_type": "code",
   "execution_count": 26,
   "metadata": {
    "ExecuteTime": {
     "end_time": "2020-05-14T02:11:00.772108Z",
     "start_time": "2020-05-14T02:11:00.761875Z"
    }
   },
   "outputs": [],
   "source": [
    "from xgboost.sklearn import XGBClassifier\n",
    "from sklearn.model_selection import GridSearchCV\n",
    "from sklearn.model_selection import cross_validate as cross_validation\n",
    "from sklearn import metrics\n",
    "\n",
    "def modelfit(alg, dtrain, predictors,useTrainCV=True, cv_folds=5, early_stopping_rounds=50):\n",
    "    if useTrainCV:\n",
    "        xgb_param = alg.get_xgb_params()\n",
    "        xgtrain = xgb.DMatrix(dtrain[predictors].values, label=dtrain['label'].values)\n",
    "        cvresult = xgb.cv(xgb_param, xgtrain, num_boost_round=alg.get_params()['n_estimators'], nfold=cv_folds,\n",
    "            metrics='auc', early_stopping_rounds=early_stopping_rounds, verbose_eval=False)\n",
    "        alg.set_params(n_estimators=cvresult.shape[0])\n",
    "\n",
    "    #Fit the algorithm on the data\n",
    "    alg.fit(dtrain[predictors], dtrain['label'],eval_metric='auc')\n",
    "\n",
    "    #Predict training set:\n",
    "    dtrain_predictions = alg.predict(dtrain[predictors])\n",
    "    dtrain_predprob = alg.predict_proba(dtrain[predictors])[:,1]\n",
    "\n",
    "    #Print model report:\n",
    "    print(\"\\nModel Report\")\n",
    "    print(\"Accuracy : %.4g\" % metrics.accuracy_score(dtrain['label'].values, dtrain_predictions))\n",
    "    print(\"AUC Score (Train): %f\" % metrics.roc_auc_score(dtrain['label'], dtrain_predprob))\n",
    "\n",
    "#     feat_imp = pd.Series(alg.booster().get_fscore()).sort_values(ascending=False)\n",
    "#     feat_imp.plot(kind='bar', title='Feature Importances')\n",
    "#     plt.ylabel('Feature Importance Score')\n",
    "\n",
    "target = 'label'"
   ]
  },
  {
   "cell_type": "markdown",
   "metadata": {},
   "source": [
    "### 初始化参数"
   ]
  },
  {
   "cell_type": "code",
   "execution_count": 51,
   "metadata": {
    "ExecuteTime": {
     "end_time": "2020-05-14T02:23:16.246825Z",
     "start_time": "2020-05-14T02:23:15.922060Z"
    }
   },
   "outputs": [
    {
     "name": "stdout",
     "output_type": "stream",
     "text": [
      "acc 0.71\n",
      "auc 0.6810344827586207\n"
     ]
    }
   ],
   "source": [
    "from sklearn.metrics import roc_auc_score, auc\n",
    "\n",
    "predictors = [x for x in dataset.columns if x not in ['label']]\n",
    "xgb1 = XGBClassifier(\n",
    " learning_rate =0.1,\n",
    " n_estimators=140,\n",
    " max_depth=5,\n",
    " min_child_weight=1,\n",
    " gamma=0,\n",
    " subsample=0.8,\n",
    " colsample_bytree=0.8,\n",
    " objective= 'binary:logistic',\n",
    " nthread=4,\n",
    " scale_pos_weight=1,\n",
    " seed=27)\n",
    "\n",
    "X_train, X_test, y_train, y_test = train_test_split(dataset[predictors], dataset['label'])\n",
    "\n",
    "xgb1.fit(X_train, y_train)\n",
    "print(\"acc\", xgb1.score(X_test, y_test))\n",
    "print(\"auc\", roc_auc_score(np.array(y_test.values), xgb1.predict(X_test)))"
   ]
  },
  {
   "cell_type": "markdown",
   "metadata": {},
   "source": [
    "### max_depth 和 min_weight 参数调优"
   ]
  },
  {
   "cell_type": "code",
   "execution_count": 17,
   "metadata": {
    "ExecuteTime": {
     "end_time": "2020-05-14T01:57:08.117184Z",
     "start_time": "2020-05-14T01:54:51.782656Z"
    },
    "scrolled": true
   },
   "outputs": [
    {
     "name": "stderr",
     "output_type": "stream",
     "text": [
      "/home/liang/miniconda3/lib/python3.7/site-packages/sklearn/model_selection/_search.py:823: FutureWarning: The parameter 'iid' is deprecated in 0.22 and will be removed in 0.24.\n",
      "  \"removed in 0.24.\", FutureWarning\n"
     ]
    },
    {
     "data": {
      "text/plain": [
       "({'mean_fit_time': array([ 4.55528474,  7.23703232,  7.50631742,  7.95382962, 12.0475565 ,\n",
       "          7.53493552, 18.7284523 , 12.80032225,  7.29959922,  6.2080029 ,\n",
       "          9.96828833,  5.67603111]),\n",
       "  'std_fit_time': array([1.69178267, 3.59022731, 2.15843025, 2.62781836, 6.57108353,\n",
       "         7.31140135, 8.61629269, 8.359407  , 3.75723507, 3.65233561,\n",
       "         6.76032006, 4.10040615]),\n",
       "  'mean_score_time': array([0.04447098, 0.05305443, 0.047013  , 0.05251026, 0.04366417,\n",
       "         0.06067195, 0.05352292, 0.05413494, 0.06919193, 0.0514739 ,\n",
       "         0.04050679, 0.04986353]),\n",
       "  'std_score_time': array([0.0125392 , 0.01021399, 0.00937822, 0.01365071, 0.01382998,\n",
       "         0.00971657, 0.01888724, 0.02055267, 0.02431977, 0.0192723 ,\n",
       "         0.02019748, 0.02412216]),\n",
       "  'param_max_depth': masked_array(data=[3, 3, 3, 5, 5, 5, 7, 7, 7, 9, 9, 9],\n",
       "               mask=[False, False, False, False, False, False, False, False,\n",
       "                     False, False, False, False],\n",
       "         fill_value='?',\n",
       "              dtype=object),\n",
       "  'param_min_child_weight': masked_array(data=[1, 3, 5, 1, 3, 5, 1, 3, 5, 1, 3, 5],\n",
       "               mask=[False, False, False, False, False, False, False, False,\n",
       "                     False, False, False, False],\n",
       "         fill_value='?',\n",
       "              dtype=object),\n",
       "  'params': [{'max_depth': 3, 'min_child_weight': 1},\n",
       "   {'max_depth': 3, 'min_child_weight': 3},\n",
       "   {'max_depth': 3, 'min_child_weight': 5},\n",
       "   {'max_depth': 5, 'min_child_weight': 1},\n",
       "   {'max_depth': 5, 'min_child_weight': 3},\n",
       "   {'max_depth': 5, 'min_child_weight': 5},\n",
       "   {'max_depth': 7, 'min_child_weight': 1},\n",
       "   {'max_depth': 7, 'min_child_weight': 3},\n",
       "   {'max_depth': 7, 'min_child_weight': 5},\n",
       "   {'max_depth': 9, 'min_child_weight': 1},\n",
       "   {'max_depth': 9, 'min_child_weight': 3},\n",
       "   {'max_depth': 9, 'min_child_weight': 5}],\n",
       "  'split0_test_score': array([0.73041475, 0.67116524, 0.66919026, 0.73436471, 0.66919026,\n",
       "         0.66359447, 0.74489796, 0.67445688, 0.65701119, 0.73436471,\n",
       "         0.67511521, 0.6596445 ]),\n",
       "  'split1_test_score': array([0.72580645, 0.68499013, 0.65832785, 0.72712311, 0.70078999,\n",
       "         0.65898618, 0.69223173, 0.67577354, 0.65042791, 0.69354839,\n",
       "         0.68894009, 0.65042791]),\n",
       "  'split2_test_score': array([0.8377551 , 0.7914966 , 0.75918367, 0.81462585, 0.77789116,\n",
       "         0.73877551, 0.79897959, 0.77108844, 0.73877551, 0.82414966,\n",
       "         0.76632653, 0.73877551]),\n",
       "  'split3_test_score': array([0.74183673, 0.76428571, 0.75034014, 0.72414966, 0.73095238,\n",
       "         0.75034014, 0.71326531, 0.71394558, 0.74013605, 0.72346939,\n",
       "         0.72414966, 0.74013605]),\n",
       "  'split4_test_score': array([0.52083333, 0.49327957, 0.53192204, 0.51948925, 0.51478495,\n",
       "         0.53998656, 0.51948925, 0.51747312, 0.53830645, 0.51680108,\n",
       "         0.52284946, 0.53864247]),\n",
       "  'mean_test_score': array([0.71132927, 0.68104345, 0.67379279, 0.70395052, 0.67872175,\n",
       "         0.67033657, 0.69377277, 0.67054751, 0.66493142, 0.69846664,\n",
       "         0.67547619, 0.66552529]),\n",
       "  'std_test_score': array([0.103708  , 0.10440077, 0.08190086, 0.09812745, 0.08946032,\n",
       "         0.07516631, 0.09427549, 0.08422142, 0.07404816, 0.1007339 ,\n",
       "         0.08258234, 0.07388386]),\n",
       "  'rank_test_score': array([ 1,  5,  8,  2,  6, 10,  4,  9, 12,  3,  7, 11], dtype=int32)},\n",
       " {'max_depth': 3, 'min_child_weight': 1},\n",
       " 0.7113292736449419)"
      ]
     },
     "execution_count": 17,
     "metadata": {},
     "output_type": "execute_result"
    }
   ],
   "source": [
    "param_test1 = {\n",
    " 'max_depth':range(3,10,2),\n",
    " 'min_child_weight':range(1,6,2)\n",
    "}\n",
    "\n",
    "gsearch1 = GridSearchCV(estimator = XGBClassifier(learning_rate =0.1, n_estimators=140, max_depth=5,\n",
    "                        min_child_weight=1, gamma=0, subsample=0.8,colsample_bytree=0.8,\n",
    "                        objective= 'binary:logistic', nthread=4,scale_pos_weight=1, seed=27), \n",
    "                            param_grid = param_test1,scoring='roc_auc',n_jobs=4,iid=False, cv=5)\n",
    "\n",
    "gsearch1.fit(dataset[predictors],dataset[target])\n",
    "gsearch1.cv_results_, gsearch1.best_params_, gsearch1.best_score_"
   ]
  },
  {
   "cell_type": "markdown",
   "metadata": {},
   "source": [
    "最佳参数 max_depth:3 min_child_weight:1，因为之前使用的步长为2，现在缩小范围再调一次参数"
   ]
  },
  {
   "cell_type": "code",
   "execution_count": 18,
   "metadata": {
    "ExecuteTime": {
     "end_time": "2020-05-14T02:01:51.947803Z",
     "start_time": "2020-05-14T02:00:26.337264Z"
    },
    "scrolled": true
   },
   "outputs": [
    {
     "name": "stderr",
     "output_type": "stream",
     "text": [
      "/home/liang/miniconda3/lib/python3.7/site-packages/sklearn/model_selection/_search.py:823: FutureWarning: The parameter 'iid' is deprecated in 0.22 and will be removed in 0.24.\n",
      "  \"removed in 0.24.\", FutureWarning\n"
     ]
    },
    {
     "data": {
      "text/plain": [
       "({'mean_fit_time': array([4.07655315, 3.03411584, 3.98145094, 3.68075032, 6.47948823,\n",
       "         5.40448008, 6.09021425, 7.18368287, 5.56211205, 8.67956815,\n",
       "         9.10296631, 3.76407161]),\n",
       "  'std_fit_time': array([4.13184991, 1.59503644, 2.52902439, 1.38787037, 1.4195728 ,\n",
       "         3.70333182, 2.43969031, 3.2985513 , 1.85956209, 6.35042241,\n",
       "         3.89976832, 3.82194732]),\n",
       "  'mean_score_time': array([0.05774355, 0.05312963, 0.03073654, 0.04100685, 0.05969992,\n",
       "         0.05526714, 0.0566864 , 0.05018888, 0.06741891, 0.05205755,\n",
       "         0.04121785, 0.04302425]),\n",
       "  'std_score_time': array([0.01608402, 0.02226684, 0.00403161, 0.00983964, 0.00587837,\n",
       "         0.01684849, 0.02034015, 0.0110057 , 0.00991016, 0.02310155,\n",
       "         0.00904933, 0.02595907]),\n",
       "  'param_max_depth': masked_array(data=[1, 1, 1, 2, 2, 2, 3, 3, 3, 4, 4, 4],\n",
       "               mask=[False, False, False, False, False, False, False, False,\n",
       "                     False, False, False, False],\n",
       "         fill_value='?',\n",
       "              dtype=object),\n",
       "  'param_min_child_weight': masked_array(data=[1, 2, 3, 1, 2, 3, 1, 2, 3, 1, 2, 3],\n",
       "               mask=[False, False, False, False, False, False, False, False,\n",
       "                     False, False, False, False],\n",
       "         fill_value='?',\n",
       "              dtype=object),\n",
       "  'params': [{'max_depth': 1, 'min_child_weight': 1},\n",
       "   {'max_depth': 1, 'min_child_weight': 2},\n",
       "   {'max_depth': 1, 'min_child_weight': 3},\n",
       "   {'max_depth': 2, 'min_child_weight': 1},\n",
       "   {'max_depth': 2, 'min_child_weight': 2},\n",
       "   {'max_depth': 2, 'min_child_weight': 3},\n",
       "   {'max_depth': 3, 'min_child_weight': 1},\n",
       "   {'max_depth': 3, 'min_child_weight': 2},\n",
       "   {'max_depth': 3, 'min_child_weight': 3},\n",
       "   {'max_depth': 4, 'min_child_weight': 1},\n",
       "   {'max_depth': 4, 'min_child_weight': 2},\n",
       "   {'max_depth': 4, 'min_child_weight': 3}],\n",
       "  'split0_test_score': array([0.73271889, 0.72843976, 0.74226465, 0.72514812, 0.70737327,\n",
       "         0.67445688, 0.73041475, 0.69025675, 0.67116524, 0.74160632,\n",
       "         0.71263989, 0.67643186]),\n",
       "  'split1_test_score': array([0.71593153, 0.70309414, 0.70046083, 0.72416063, 0.68005267,\n",
       "         0.6843318 , 0.72580645, 0.65997367, 0.68499013, 0.72975642,\n",
       "         0.6915734 , 0.67906517]),\n",
       "  'split2_test_score': array([0.77721088, 0.77482993, 0.76768707, 0.81836735, 0.80714286,\n",
       "         0.80102041, 0.8377551 , 0.81870748, 0.7914966 , 0.83231293,\n",
       "         0.81802721, 0.78129252]),\n",
       "  'split3_test_score': array([0.75170068, 0.76802721, 0.77857143, 0.74115646, 0.76904762,\n",
       "         0.77755102, 0.74183673, 0.74591837, 0.76428571, 0.7329932 ,\n",
       "         0.73095238, 0.74183673]),\n",
       "  'split4_test_score': array([0.50033602, 0.46942204, 0.46370968, 0.51142473, 0.49932796,\n",
       "         0.4905914 , 0.52083333, 0.48319892, 0.49327957, 0.52352151,\n",
       "         0.49932796, 0.50268817]),\n",
       "  'mean_test_score': array([0.6955796 , 0.68876262, 0.69053873, 0.70405146, 0.69258887,\n",
       "         0.6855903 , 0.71132927, 0.67961104, 0.68104345, 0.71203807,\n",
       "         0.69050417, 0.67626289]),\n",
       "  'std_test_score': array([0.09972645, 0.11276561, 0.11655648, 0.10237129, 0.10648387,\n",
       "         0.1094815 , 0.103708  , 0.11209028, 0.10440077, 0.10161877,\n",
       "         0.10482143, 0.09535955]),\n",
       "  'rank_test_score': array([ 4,  8,  6,  3,  5,  9,  2, 11, 10,  1,  7, 12], dtype=int32)},\n",
       " {'max_depth': 4, 'min_child_weight': 1},\n",
       " 0.7120380732938336)"
      ]
     },
     "execution_count": 18,
     "metadata": {},
     "output_type": "execute_result"
    }
   ],
   "source": [
    "param_test2 = {\n",
    " 'max_depth':[1,2,3,4],\n",
    " 'min_child_weight':[1,2,3]\n",
    "}\n",
    "\n",
    "gsearch2 = GridSearchCV(estimator = XGBClassifier(learning_rate =0.1, n_estimators=140, max_depth=5,\n",
    "                        min_child_weight=1, gamma=0, subsample=0.8,colsample_bytree=0.8,\n",
    "                        objective= 'binary:logistic', nthread=4,scale_pos_weight=1, seed=27), \n",
    "                            param_grid = param_test2,scoring='roc_auc',n_jobs=4,iid=False, cv=5)\n",
    "\n",
    "gsearch2.fit(dataset[predictors],dataset[target])\n",
    "gsearch2.cv_results_, gsearch2.best_params_, gsearch2.best_score_"
   ]
  },
  {
   "cell_type": "markdown",
   "metadata": {
    "ExecuteTime": {
     "end_time": "2020-05-14T02:03:29.920884Z",
     "start_time": "2020-05-14T02:03:29.917941Z"
    }
   },
   "source": [
    "此时最优参数是 max_depth:4  min_child_weight:1"
   ]
  },
  {
   "cell_type": "markdown",
   "metadata": {
    "ExecuteTime": {
     "end_time": "2020-05-14T02:03:39.366156Z",
     "start_time": "2020-05-14T02:03:39.363666Z"
    }
   },
   "source": [
    "### gamma参数调优"
   ]
  },
  {
   "cell_type": "code",
   "execution_count": 22,
   "metadata": {
    "ExecuteTime": {
     "end_time": "2020-05-14T02:07:42.614988Z",
     "start_time": "2020-05-14T02:06:43.826476Z"
    }
   },
   "outputs": [
    {
     "name": "stderr",
     "output_type": "stream",
     "text": [
      "/home/liang/miniconda3/lib/python3.7/site-packages/sklearn/model_selection/_search.py:823: FutureWarning: The parameter 'iid' is deprecated in 0.22 and will be removed in 0.24.\n",
      "  \"removed in 0.24.\", FutureWarning\n"
     ]
    },
    {
     "data": {
      "text/plain": [
       "({'gamma': 0.3}, 0.7151442835198596)"
      ]
     },
     "execution_count": 22,
     "metadata": {},
     "output_type": "execute_result"
    }
   ],
   "source": [
    "param_test3 = {\n",
    " 'gamma':[i/10.0 for i in range(9)]\n",
    "}\n",
    "\n",
    "\n",
    "gsearch3 = GridSearchCV(estimator = XGBClassifier(learning_rate =0.1, n_estimators=140, max_depth=4,\n",
    "                        min_child_weight=1, gamma=0, subsample=0.8,colsample_bytree=0.8,\n",
    "                        objective= 'binary:logistic', nthread=4,scale_pos_weight=1, seed=27), \n",
    "                            param_grid = param_test3,scoring='roc_auc',n_jobs=4,iid=False, cv=5)\n",
    "\n",
    "gsearch3.fit(dataset[predictors],dataset[target])\n",
    "gsearch3.best_params_, gsearch3.best_score_"
   ]
  },
  {
   "cell_type": "markdown",
   "metadata": {},
   "source": [
    "最优参数为 gamma: 0.3"
   ]
  },
  {
   "cell_type": "markdown",
   "metadata": {},
   "source": [
    "### 调整subsample 和 colsample_bytree 参数"
   ]
  },
  {
   "cell_type": "code",
   "execution_count": 54,
   "metadata": {
    "ExecuteTime": {
     "end_time": "2020-05-14T02:30:07.706021Z",
     "start_time": "2020-05-14T02:28:09.819528Z"
    }
   },
   "outputs": [
    {
     "name": "stderr",
     "output_type": "stream",
     "text": [
      "/home/liang/miniconda3/lib/python3.7/site-packages/sklearn/model_selection/_search.py:823: FutureWarning: The parameter 'iid' is deprecated in 0.22 and will be removed in 0.24.\n",
      "  \"removed in 0.24.\", FutureWarning\n"
     ]
    },
    {
     "data": {
      "text/plain": [
       "({'colsample_bytree': 0.6, 'subsample': 0.9}, 0.7159309852973448)"
      ]
     },
     "execution_count": 54,
     "metadata": {},
     "output_type": "execute_result"
    }
   ],
   "source": [
    "param_test4 = {\n",
    " 'subsample':[i/10.0 for i in range(6,10)],\n",
    " 'colsample_bytree':[i/10.0 for i in range(6,10)]\n",
    "}\n",
    "\n",
    "gsearch4 = GridSearchCV(estimator = XGBClassifier(learning_rate =0.1, n_estimators=140, max_depth=4, \n",
    "                                                  min_child_weight=1, gamma=0.3, subsample=0.8, colsample_bytree=0.8,\n",
    "                                                  objective= 'binary:logistic', nthread=4, scale_pos_weight=1,seed=27),\n",
    "                        param_grid = param_test4, scoring='roc_auc',n_jobs=4,iid=False, cv=5)\n",
    "\n",
    "gsearch4.fit(dataset[predictors],dataset[target])\n",
    "gsearch4.best_params_, gsearch4.best_score_"
   ]
  },
  {
   "cell_type": "markdown",
   "metadata": {},
   "source": [
    "减小步长再调一次"
   ]
  },
  {
   "cell_type": "code",
   "execution_count": 55,
   "metadata": {
    "ExecuteTime": {
     "end_time": "2020-05-14T02:40:20.189632Z",
     "start_time": "2020-05-14T02:34:08.848026Z"
    }
   },
   "outputs": [
    {
     "name": "stderr",
     "output_type": "stream",
     "text": [
      "/home/liang/miniconda3/lib/python3.7/site-packages/sklearn/model_selection/_search.py:823: FutureWarning: The parameter 'iid' is deprecated in 0.22 and will be removed in 0.24.\n",
      "  \"removed in 0.24.\", FutureWarning\n"
     ]
    },
    {
     "data": {
      "text/plain": [
       "({'colsample_bytree': 0.75, 'subsample': 0.65}, 0.7129125521176213)"
      ]
     },
     "execution_count": 55,
     "metadata": {},
     "output_type": "execute_result"
    }
   ],
   "source": [
    "param_test5 = {\n",
    " 'subsample':[i/100.0 for i in range(40, 75, 5)],\n",
    " 'colsample_bytree':[i/100.0 for i in range(70 , 100, 5)]\n",
    "}\n",
    "\n",
    "gsearch5 = GridSearchCV(estimator = XGBClassifier(learning_rate =0.1, n_estimators=140, max_depth=4, \n",
    "                                                  min_child_weight=1, gamma=0.3, subsample=0.9, colsample_bytree=0.6,\n",
    "                                                  objective= 'binary:logistic', nthread=4, scale_pos_weight=1,seed=27),\n",
    "                        param_grid = param_test5, scoring='roc_auc',n_jobs=4,iid=False, cv=5)\n",
    "\n",
    "gsearch5.fit(dataset[predictors],dataset[target])\n",
    "gsearch5.best_params_, gsearch5.best_score_"
   ]
  },
  {
   "cell_type": "markdown",
   "metadata": {},
   "source": [
    "### 调整正则项系数"
   ]
  },
  {
   "cell_type": "code",
   "execution_count": 56,
   "metadata": {
    "ExecuteTime": {
     "end_time": "2020-05-14T02:44:00.552889Z",
     "start_time": "2020-05-14T02:43:35.108179Z"
    }
   },
   "outputs": [
    {
     "name": "stderr",
     "output_type": "stream",
     "text": [
      "/home/liang/miniconda3/lib/python3.7/site-packages/sklearn/model_selection/_search.py:823: FutureWarning: The parameter 'iid' is deprecated in 0.22 and will be removed in 0.24.\n",
      "  \"removed in 0.24.\", FutureWarning\n"
     ]
    },
    {
     "data": {
      "text/plain": [
       "({'reg_alpha': 0.01}, 0.716088983980689)"
      ]
     },
     "execution_count": 56,
     "metadata": {},
     "output_type": "execute_result"
    }
   ],
   "source": [
    "param_test6 = {\n",
    " 'reg_alpha':[1e-5, 1e-2, 0.1, 1, 100]\n",
    "}\n",
    "gsearch6 = GridSearchCV(estimator = XGBClassifier(learning_rate =0.1, n_estimators=140, max_depth=4, \n",
    "                                                  min_child_weight=1, gamma=0.3, subsample=0.9, colsample_bytree=0.6,\n",
    "                                                  objective= 'binary:logistic', nthread=4, scale_pos_weight=1,seed=27),\n",
    "                        param_grid = param_test6, scoring='roc_auc',n_jobs=4,iid=False, cv=5)\n",
    "\n",
    "gsearch6.fit(dataset[predictors],dataset[target])\n",
    "gsearch6.best_params_, gsearch6.best_score_"
   ]
  },
  {
   "cell_type": "code",
   "execution_count": 57,
   "metadata": {
    "ExecuteTime": {
     "end_time": "2020-05-14T02:45:59.161998Z",
     "start_time": "2020-05-14T02:45:31.463413Z"
    }
   },
   "outputs": [
    {
     "name": "stderr",
     "output_type": "stream",
     "text": [
      "/home/liang/miniconda3/lib/python3.7/site-packages/sklearn/model_selection/_search.py:823: FutureWarning: The parameter 'iid' is deprecated in 0.22 and will be removed in 0.24.\n",
      "  \"removed in 0.24.\", FutureWarning\n"
     ]
    },
    {
     "data": {
      "text/plain": [
       "({'reg_alpha': 0.05}, 0.716088983980689)"
      ]
     },
     "execution_count": 57,
     "metadata": {},
     "output_type": "execute_result"
    }
   ],
   "source": [
    "param_test7 = {\n",
    " 'reg_alpha':[0, 0.001, 0.005, 0.01, 0.05]\n",
    "}\n",
    "gsearch7 = GridSearchCV(estimator = XGBClassifier(learning_rate =0.1, n_estimators=140, max_depth=4, \n",
    "                                                  min_child_weight=1, gamma=0.3, subsample=0.9, colsample_bytree=0.6,\n",
    "                                                  objective= 'binary:logistic', nthread=4, scale_pos_weight=1,seed=27),\n",
    "                        param_grid = param_test7, scoring='roc_auc',n_jobs=4,iid=False, cv=5)\n",
    "\n",
    "gsearch7.fit(dataset[predictors],dataset[target])\n",
    "gsearch7.best_params_, gsearch6.best_score_"
   ]
  },
  {
   "cell_type": "markdown",
   "metadata": {},
   "source": [
    "### 降低学习率"
   ]
  },
  {
   "cell_type": "code",
   "execution_count": 60,
   "metadata": {
    "ExecuteTime": {
     "end_time": "2020-05-14T02:52:01.557304Z",
     "start_time": "2020-05-14T02:51:41.286018Z"
    }
   },
   "outputs": [
    {
     "name": "stderr",
     "output_type": "stream",
     "text": [
      "/home/liang/miniconda3/lib/python3.7/site-packages/sklearn/model_selection/_search.py:823: FutureWarning: The parameter 'iid' is deprecated in 0.22 and will be removed in 0.24.\n",
      "  \"removed in 0.24.\", FutureWarning\n"
     ]
    },
    {
     "data": {
      "text/plain": [
       "({'learning_rate': 0.01}, 0.7187074829931972)"
      ]
     },
     "execution_count": 60,
     "metadata": {},
     "output_type": "execute_result"
    }
   ],
   "source": [
    "param_test8 = {\n",
    " 'learning_rate':[0.01, 0.05, 0.1]\n",
    "}\n",
    "gsearch8 = GridSearchCV(estimator = XGBClassifier(learning_rate =0.1, n_estimators=140, max_depth=4,reg_alpha=0.05, \n",
    "                                                  min_child_weight=1, gamma=0.3, subsample=0.9, colsample_bytree=0.6,\n",
    "                                                  objective= 'binary:logistic', nthread=4, scale_pos_weight=1,seed=27),\n",
    "                        param_grid = param_test8, scoring='roc_auc',n_jobs=4,iid=False, cv=5)\n",
    "\n",
    "gsearch8.fit(dataset[predictors],dataset[target])\n",
    "gsearch8.best_params_, gsearch8.best_score_"
   ]
  },
  {
   "cell_type": "markdown",
   "metadata": {},
   "source": [
    "### 增加基模型的数量"
   ]
  },
  {
   "cell_type": "code",
   "execution_count": 61,
   "metadata": {
    "ExecuteTime": {
     "end_time": "2020-05-14T02:55:02.805798Z",
     "start_time": "2020-05-14T02:53:47.722490Z"
    }
   },
   "outputs": [
    {
     "name": "stderr",
     "output_type": "stream",
     "text": [
      "/home/liang/miniconda3/lib/python3.7/site-packages/sklearn/model_selection/_search.py:823: FutureWarning: The parameter 'iid' is deprecated in 0.22 and will be removed in 0.24.\n",
      "  \"removed in 0.24.\", FutureWarning\n"
     ]
    },
    {
     "data": {
      "text/plain": [
       "({'n_estimators': 300}, 0.7200861312266842)"
      ]
     },
     "execution_count": 61,
     "metadata": {},
     "output_type": "execute_result"
    }
   ],
   "source": [
    "param_test9 = {\n",
    " 'n_estimators':[50, 100, 150, 200, 250, 300, 350, 400]\n",
    "}\n",
    "gsearch9 = GridSearchCV(estimator = XGBClassifier(learning_rate =0.01, n_estimators=140, max_depth=4,reg_alpha=0.05, \n",
    "                                                  min_child_weight=1, gamma=0.3, subsample=0.9, colsample_bytree=0.6,\n",
    "                                                  objective= 'binary:logistic', nthread=4, scale_pos_weight=1,seed=27),\n",
    "                        param_grid = param_test9, scoring='roc_auc',n_jobs=4,iid=False, cv=5)\n",
    "\n",
    "gsearch9.fit(dataset[predictors],dataset[target])\n",
    "gsearch9.best_params_, gsearch9.best_score_"
   ]
  },
  {
   "cell_type": "code",
   "execution_count": 73,
   "metadata": {
    "ExecuteTime": {
     "end_time": "2020-05-14T03:06:14.631724Z",
     "start_time": "2020-05-14T03:06:14.148236Z"
    }
   },
   "outputs": [
    {
     "data": {
      "text/plain": [
       "XGBClassifier(base_score=0.5, booster=None, colsample_bylevel=1,\n",
       "              colsample_bynode=1, colsample_bytree=0.6, gamma=0.3, gpu_id=-1,\n",
       "              importance_type='gain', interaction_constraints=None,\n",
       "              learning_rate=0.05, max_delta_step=0, max_depth=4,\n",
       "              min_child_weight=1, missing=nan, monotone_constraints=None,\n",
       "              n_estimators=300, n_jobs=4, nthread=4, num_parallel_tree=1,\n",
       "              objective='binary:logistic', random_state=27, reg_alpha=0.05,\n",
       "              reg_lambda=1, scale_pos_weight=1, seed=27, subsample=0.9,\n",
       "              tree_method=None, validate_parameters=False, verbosity=None)"
      ]
     },
     "execution_count": 73,
     "metadata": {},
     "output_type": "execute_result"
    }
   ],
   "source": [
    "xgb2 = XGBClassifier(\n",
    " learning_rate =0.05,\n",
    " n_estimators=300,\n",
    " max_depth=4,\n",
    " min_child_weight=1,\n",
    " gamma=0.3,\n",
    " subsample=0.9,\n",
    " reg_alpha=0.05,\n",
    " colsample_bytree=0.6,\n",
    " objective= 'binary:logistic',\n",
    " nthread=4,\n",
    " scale_pos_weight=1,\n",
    " seed=27)\n",
    "\n",
    "xgb2.fit(dataset[predictors].values, dataset['label'].values)"
   ]
  },
  {
   "cell_type": "code",
   "execution_count": 74,
   "metadata": {
    "ExecuteTime": {
     "end_time": "2020-05-14T03:06:29.691097Z",
     "start_time": "2020-05-14T03:06:29.633344Z"
    }
   },
   "outputs": [
    {
     "data": {
      "text/plain": [
       "[('诗经', 0.039772246),\n",
       " ('赞美', 0.038918853),\n",
       " ('先秦', 0.03542062),\n",
       " ('古诗三百首', 0.033082176),\n",
       " ('初中文言文', 0.030312577),\n",
       " ('抱负', 0.029126126),\n",
       " ('唐代', 0.026585966),\n",
       " ('爱情', 0.026146589),\n",
       " ('抒怀', 0.02516353),\n",
       " ('咏物', 0.023291534)]"
      ]
     },
     "execution_count": 74,
     "metadata": {},
     "output_type": "execute_result"
    }
   ],
   "source": [
    "cols = dataset.drop(\"label\", axis=1).columns\n",
    "feature_score = list(zip(cols, xgb2.feature_importances_))\n",
    "feature_score = sorted(feature_score, key=lambda tup:tup[1], reverse=True)[:10]\n",
    "feature_score"
   ]
  },
  {
   "cell_type": "code",
   "execution_count": 78,
   "metadata": {
    "ExecuteTime": {
     "end_time": "2020-05-14T03:08:00.702943Z",
     "start_time": "2020-05-14T03:08:00.644827Z"
    }
   },
   "outputs": [],
   "source": [
    "train_new_feature = xgb2.apply(dataset[predictors].values)\n",
    "train_new_feature = train_new_feature.reshape(-1, 300)\n",
    "enc = OneHotEncoder()\n",
    "enc.fit(train_new_feature)\n",
    "train_new_feature2 = np.array(enc.transform(train_new_feature).toarray())"
   ]
  },
  {
   "cell_type": "code",
   "execution_count": 79,
   "metadata": {
    "ExecuteTime": {
     "end_time": "2020-05-14T03:08:03.976275Z",
     "start_time": "2020-05-14T03:08:03.972222Z"
    }
   },
   "outputs": [
    {
     "data": {
      "text/plain": [
       "array([[0., 0., 0., ..., 0., 1., 0.],\n",
       "       [0., 0., 1., ..., 0., 1., 0.],\n",
       "       [0., 0., 1., ..., 0., 1., 0.],\n",
       "       ...,\n",
       "       [0., 0., 1., ..., 0., 1., 0.],\n",
       "       [0., 0., 0., ..., 0., 0., 0.],\n",
       "       [0., 0., 1., ..., 0., 1., 0.]])"
      ]
     },
     "execution_count": 79,
     "metadata": {},
     "output_type": "execute_result"
    }
   ],
   "source": [
    "# 经过 xgboost 特征编码之后的特征集\n",
    "train_new_feature2"
   ]
  },
  {
   "cell_type": "markdown",
   "metadata": {},
   "source": [
    "没调参前LR模型的评估指标\n",
    "Validation log loss: 0.6032\n",
    "Validation accuracy: 0.7617\n",
    "Validation auc:0.8078"
   ]
  },
  {
   "cell_type": "code",
   "execution_count": 31,
   "metadata": {
    "ExecuteTime": {
     "end_time": "2020-05-12T02:48:52.263783Z",
     "start_time": "2020-05-12T02:48:50.241235Z"
    }
   },
   "outputs": [
    {
     "name": "stderr",
     "output_type": "stream",
     "text": [
      "/home/liang/miniconda3/lib/python3.7/site-packages/sklearn/linear_model/_logistic.py:940: ConvergenceWarning: lbfgs failed to converge (status=1):\n",
      "STOP: TOTAL NO. of ITERATIONS REACHED LIMIT.\n",
      "\n",
      "Increase the number of iterations (max_iter) or scale the data as shown in:\n",
      "    https://scikit-learn.org/stable/modules/preprocessing.html\n",
      "Please also refer to the documentation for alternative solver options:\n",
      "    https://scikit-learn.org/stable/modules/linear_model.html#logistic-regression\n",
      "  extra_warning_msg=_LOGISTIC_SOLVER_CONVERGENCE_MSG)\n",
      "/home/liang/miniconda3/lib/python3.7/site-packages/sklearn/linear_model/_logistic.py:940: ConvergenceWarning: lbfgs failed to converge (status=1):\n",
      "STOP: TOTAL NO. of ITERATIONS REACHED LIMIT.\n",
      "\n",
      "Increase the number of iterations (max_iter) or scale the data as shown in:\n",
      "    https://scikit-learn.org/stable/modules/preprocessing.html\n",
      "Please also refer to the documentation for alternative solver options:\n",
      "    https://scikit-learn.org/stable/modules/linear_model.html#logistic-regression\n",
      "  extra_warning_msg=_LOGISTIC_SOLVER_CONVERGENCE_MSG)\n",
      "/home/liang/miniconda3/lib/python3.7/site-packages/sklearn/linear_model/_logistic.py:940: ConvergenceWarning: lbfgs failed to converge (status=1):\n",
      "STOP: TOTAL NO. of ITERATIONS REACHED LIMIT.\n",
      "\n",
      "Increase the number of iterations (max_iter) or scale the data as shown in:\n",
      "    https://scikit-learn.org/stable/modules/preprocessing.html\n",
      "Please also refer to the documentation for alternative solver options:\n",
      "    https://scikit-learn.org/stable/modules/linear_model.html#logistic-regression\n",
      "  extra_warning_msg=_LOGISTIC_SOLVER_CONVERGENCE_MSG)\n",
      "/home/liang/miniconda3/lib/python3.7/site-packages/sklearn/linear_model/_logistic.py:940: ConvergenceWarning: lbfgs failed to converge (status=1):\n",
      "STOP: TOTAL NO. of ITERATIONS REACHED LIMIT.\n",
      "\n",
      "Increase the number of iterations (max_iter) or scale the data as shown in:\n",
      "    https://scikit-learn.org/stable/modules/preprocessing.html\n",
      "Please also refer to the documentation for alternative solver options:\n",
      "    https://scikit-learn.org/stable/modules/linear_model.html#logistic-regression\n",
      "  extra_warning_msg=_LOGISTIC_SOLVER_CONVERGENCE_MSG)\n",
      "/home/liang/miniconda3/lib/python3.7/site-packages/sklearn/linear_model/_logistic.py:940: ConvergenceWarning: lbfgs failed to converge (status=1):\n",
      "STOP: TOTAL NO. of ITERATIONS REACHED LIMIT.\n",
      "\n",
      "Increase the number of iterations (max_iter) or scale the data as shown in:\n",
      "    https://scikit-learn.org/stable/modules/preprocessing.html\n",
      "Please also refer to the documentation for alternative solver options:\n",
      "    https://scikit-learn.org/stable/modules/linear_model.html#logistic-regression\n",
      "  extra_warning_msg=_LOGISTIC_SOLVER_CONVERGENCE_MSG)\n",
      "/home/liang/miniconda3/lib/python3.7/site-packages/sklearn/linear_model/_logistic.py:940: ConvergenceWarning: lbfgs failed to converge (status=1):\n",
      "STOP: TOTAL NO. of ITERATIONS REACHED LIMIT.\n",
      "\n",
      "Increase the number of iterations (max_iter) or scale the data as shown in:\n",
      "    https://scikit-learn.org/stable/modules/preprocessing.html\n",
      "Please also refer to the documentation for alternative solver options:\n",
      "    https://scikit-learn.org/stable/modules/linear_model.html#logistic-regression\n",
      "  extra_warning_msg=_LOGISTIC_SOLVER_CONVERGENCE_MSG)\n",
      "/home/liang/miniconda3/lib/python3.7/site-packages/sklearn/linear_model/_logistic.py:940: ConvergenceWarning: lbfgs failed to converge (status=1):\n",
      "STOP: TOTAL NO. of ITERATIONS REACHED LIMIT.\n",
      "\n",
      "Increase the number of iterations (max_iter) or scale the data as shown in:\n",
      "    https://scikit-learn.org/stable/modules/preprocessing.html\n",
      "Please also refer to the documentation for alternative solver options:\n",
      "    https://scikit-learn.org/stable/modules/linear_model.html#logistic-regression\n",
      "  extra_warning_msg=_LOGISTIC_SOLVER_CONVERGENCE_MSG)\n",
      "/home/liang/miniconda3/lib/python3.7/site-packages/sklearn/linear_model/_logistic.py:940: ConvergenceWarning: lbfgs failed to converge (status=1):\n",
      "STOP: TOTAL NO. of ITERATIONS REACHED LIMIT.\n",
      "\n",
      "Increase the number of iterations (max_iter) or scale the data as shown in:\n",
      "    https://scikit-learn.org/stable/modules/preprocessing.html\n",
      "Please also refer to the documentation for alternative solver options:\n",
      "    https://scikit-learn.org/stable/modules/linear_model.html#logistic-regression\n",
      "  extra_warning_msg=_LOGISTIC_SOLVER_CONVERGENCE_MSG)\n",
      "/home/liang/miniconda3/lib/python3.7/site-packages/sklearn/linear_model/_logistic.py:940: ConvergenceWarning: lbfgs failed to converge (status=1):\n",
      "STOP: TOTAL NO. of ITERATIONS REACHED LIMIT.\n",
      "\n",
      "Increase the number of iterations (max_iter) or scale the data as shown in:\n",
      "    https://scikit-learn.org/stable/modules/preprocessing.html\n",
      "Please also refer to the documentation for alternative solver options:\n",
      "    https://scikit-learn.org/stable/modules/linear_model.html#logistic-regression\n",
      "  extra_warning_msg=_LOGISTIC_SOLVER_CONVERGENCE_MSG)\n",
      "/home/liang/miniconda3/lib/python3.7/site-packages/sklearn/linear_model/_logistic.py:940: ConvergenceWarning: lbfgs failed to converge (status=1):\n",
      "STOP: TOTAL NO. of ITERATIONS REACHED LIMIT.\n",
      "\n",
      "Increase the number of iterations (max_iter) or scale the data as shown in:\n",
      "    https://scikit-learn.org/stable/modules/preprocessing.html\n",
      "Please also refer to the documentation for alternative solver options:\n",
      "    https://scikit-learn.org/stable/modules/linear_model.html#logistic-regression\n",
      "  extra_warning_msg=_LOGISTIC_SOLVER_CONVERGENCE_MSG)\n",
      "/home/liang/miniconda3/lib/python3.7/site-packages/sklearn/linear_model/_logistic.py:940: ConvergenceWarning: lbfgs failed to converge (status=1):\n",
      "STOP: TOTAL NO. of ITERATIONS REACHED LIMIT.\n",
      "\n",
      "Increase the number of iterations (max_iter) or scale the data as shown in:\n",
      "    https://scikit-learn.org/stable/modules/preprocessing.html\n",
      "Please also refer to the documentation for alternative solver options:\n",
      "    https://scikit-learn.org/stable/modules/linear_model.html#logistic-regression\n",
      "  extra_warning_msg=_LOGISTIC_SOLVER_CONVERGENCE_MSG)\n",
      "/home/liang/miniconda3/lib/python3.7/site-packages/sklearn/linear_model/_logistic.py:940: ConvergenceWarning: lbfgs failed to converge (status=1):\n",
      "STOP: TOTAL NO. of ITERATIONS REACHED LIMIT.\n",
      "\n",
      "Increase the number of iterations (max_iter) or scale the data as shown in:\n",
      "    https://scikit-learn.org/stable/modules/preprocessing.html\n",
      "Please also refer to the documentation for alternative solver options:\n",
      "    https://scikit-learn.org/stable/modules/linear_model.html#logistic-regression\n",
      "  extra_warning_msg=_LOGISTIC_SOLVER_CONVERGENCE_MSG)\n"
     ]
    },
    {
     "name": "stdout",
     "output_type": "stream",
     "text": [
      "Validation log loss: 0.6032\n",
      "Validation accuracy: 0.7617\n",
      "Validation auc:0.8078\n"
     ]
    },
    {
     "name": "stderr",
     "output_type": "stream",
     "text": [
      "/home/liang/miniconda3/lib/python3.7/site-packages/sklearn/linear_model/_logistic.py:940: ConvergenceWarning: lbfgs failed to converge (status=1):\n",
      "STOP: TOTAL NO. of ITERATIONS REACHED LIMIT.\n",
      "\n",
      "Increase the number of iterations (max_iter) or scale the data as shown in:\n",
      "    https://scikit-learn.org/stable/modules/preprocessing.html\n",
      "Please also refer to the documentation for alternative solver options:\n",
      "    https://scikit-learn.org/stable/modules/linear_model.html#logistic-regression\n",
      "  extra_warning_msg=_LOGISTIC_SOLVER_CONVERGENCE_MSG)\n",
      "/home/liang/miniconda3/lib/python3.7/site-packages/sklearn/linear_model/_logistic.py:940: ConvergenceWarning: lbfgs failed to converge (status=1):\n",
      "STOP: TOTAL NO. of ITERATIONS REACHED LIMIT.\n",
      "\n",
      "Increase the number of iterations (max_iter) or scale the data as shown in:\n",
      "    https://scikit-learn.org/stable/modules/preprocessing.html\n",
      "Please also refer to the documentation for alternative solver options:\n",
      "    https://scikit-learn.org/stable/modules/linear_model.html#logistic-regression\n",
      "  extra_warning_msg=_LOGISTIC_SOLVER_CONVERGENCE_MSG)\n",
      "/home/liang/miniconda3/lib/python3.7/site-packages/sklearn/linear_model/_logistic.py:940: ConvergenceWarning: lbfgs failed to converge (status=1):\n",
      "STOP: TOTAL NO. of ITERATIONS REACHED LIMIT.\n",
      "\n",
      "Increase the number of iterations (max_iter) or scale the data as shown in:\n",
      "    https://scikit-learn.org/stable/modules/preprocessing.html\n",
      "Please also refer to the documentation for alternative solver options:\n",
      "    https://scikit-learn.org/stable/modules/linear_model.html#logistic-regression\n",
      "  extra_warning_msg=_LOGISTIC_SOLVER_CONVERGENCE_MSG)\n",
      "/home/liang/miniconda3/lib/python3.7/site-packages/sklearn/linear_model/_logistic.py:940: ConvergenceWarning: lbfgs failed to converge (status=1):\n",
      "STOP: TOTAL NO. of ITERATIONS REACHED LIMIT.\n",
      "\n",
      "Increase the number of iterations (max_iter) or scale the data as shown in:\n",
      "    https://scikit-learn.org/stable/modules/preprocessing.html\n",
      "Please also refer to the documentation for alternative solver options:\n",
      "    https://scikit-learn.org/stable/modules/linear_model.html#logistic-regression\n",
      "  extra_warning_msg=_LOGISTIC_SOLVER_CONVERGENCE_MSG)\n"
     ]
    }
   ],
   "source": [
    "cv = ShuffleSplit(n_splits=5, test_size=0.3, random_state=20)\n",
    "lr_model = LogisticRegression()\n",
    "\n",
    "# neg_log_loss 算的是负样本的 log_loss，其实就是在 log_loss 取负数\n",
    "xgb_lr_acc = cross_val_score(lr_model, train_new_feature2, y, cv=cv).mean()\n",
    "xgb_lr_auc = cross_val_score(lr_model, train_new_feature2, y, cv=cv, scoring=\"roc_auc\").mean()\n",
    "xgb_lr_log_loss = -cross_val_score(lr_model, train_new_feature2, y, cv=cv, scoring=\"neg_log_loss\").mean()\n",
    "\n",
    "\n",
    "xgb_lr_fpr_list = list()\n",
    "xgb_lr_tpr_list = list()\n",
    "\n",
    "print(\"Validation log loss: %.4f\" % xgb_lr_log_loss)\n",
    "print(\"Validation accuracy: %.4f\" % xgb_lr_acc)\n",
    "print(\"Validation auc:%.4f\" % xgb_lr_auc)\n",
    "\n",
    "# 控制变量\n",
    "# 统一以最后一则交叉验证作为 histgram 的可视化\n",
    "for index, fold in enumerate(cv.split(X)):\n",
    "#     if index == 4:\n",
    "    train_data_index, test_data_index = fold\n",
    "    X_train = train_new_feature2[train_data_index, :]\n",
    "    y_train = y[train_data_index]\n",
    "    X_test = train_new_feature2[test_data_index, :]\n",
    "    y_test = y[test_data_index]\n",
    "\n",
    "    LR = LogisticRegression()\n",
    "    LR.fit(X_train, y_train)\n",
    "    xgb_lr_y_pred_proba = LR.predict_proba(X_test)\n",
    "#         plt.figure(figsize=(10,5))\n",
    "#         plt.xlabel(\"Xgboost+LogisticRegression predict probability histgram\")\n",
    "#         sns.distplot(lr_y_pred_proba, bins=20)\n",
    "    fpr, tpr, threshold = roc_curve(y_test, LR.predict(X_test))\n",
    "    xgb_lr_fpr_list.append(fpr);xgb_lr_tpr_list.append(tpr)"
   ]
  },
  {
   "cell_type": "code",
   "execution_count": 84,
   "metadata": {
    "ExecuteTime": {
     "end_time": "2020-05-14T03:13:42.599445Z",
     "start_time": "2020-05-14T03:13:40.548546Z"
    }
   },
   "outputs": [
    {
     "name": "stdout",
     "output_type": "stream",
     "text": [
      "Validation log loss: 0.5371\n",
      "Validation accuracy: 0.8100\n",
      "Validation auc:0.8669\n"
     ]
    }
   ],
   "source": [
    "import warnings\n",
    "warnings.filterwarnings('ignore')\n",
    "\n",
    "cv = ShuffleSplit(n_splits=5, test_size=0.3, random_state=20)\n",
    "lr_model = LogisticRegression()\n",
    "\n",
    "# neg_log_loss 算的是负样本的 log_loss，其实就是在 log_loss 取负数\n",
    "xgb_lr_acc = cross_val_score(lr_model, train_new_feature2, y, cv=cv).mean()\n",
    "xgb_lr_auc = cross_val_score(lr_model, train_new_feature2, y, cv=cv, scoring=\"roc_auc\").mean()\n",
    "xgb_lr_log_loss = -cross_val_score(lr_model, train_new_feature2, y, cv=cv, scoring=\"neg_log_loss\").mean()\n",
    "\n",
    "\n",
    "xgb_lr_fpr_list = list()\n",
    "xgb_lr_tpr_list = list()\n",
    "\n",
    "print(\"Validation log loss: %.4f\" % xgb_lr_log_loss)\n",
    "print(\"Validation accuracy: %.4f\" % xgb_lr_acc)\n",
    "print(\"Validation auc:%.4f\" % xgb_lr_auc)\n",
    "\n",
    "# 控制变量\n",
    "# 统一以最后一则交叉验证作为 histgram 的可视化\n",
    "for index, fold in enumerate(cv.split(X)):\n",
    "#     if index == 4:\n",
    "    train_data_index, test_data_index = fold\n",
    "    X_train = train_new_feature2[train_data_index, :]\n",
    "    y_train = y[train_data_index]\n",
    "    X_test = train_new_feature2[test_data_index, :]\n",
    "    y_test = y[test_data_index]\n",
    "\n",
    "    LR = LogisticRegression()\n",
    "    LR.fit(X_train, y_train)\n",
    "    xgb_lr_y_pred_proba = LR.predict_proba(X_test)\n",
    "#         plt.figure(figsize=(10,5))\n",
    "#         plt.xlabel(\"Xgboost+LogisticRegression predict probability histgram\")\n",
    "#         sns.distplot(lr_y_pred_proba, bins=20)\n",
    "    fpr, tpr, threshold = roc_curve(y_test, LR.predict(X_test))\n",
    "    xgb_lr_fpr_list.append(fpr);xgb_lr_tpr_list.append(tpr)"
   ]
  },
  {
   "cell_type": "markdown",
   "metadata": {},
   "source": [
    "## LR调参"
   ]
  },
  {
   "cell_type": "code",
   "execution_count": 86,
   "metadata": {
    "ExecuteTime": {
     "end_time": "2020-05-14T03:18:50.146100Z",
     "start_time": "2020-05-14T03:18:33.109705Z"
    }
   },
   "outputs": [
    {
     "data": {
      "text/plain": [
       "({'C': 0.1, 'max_iter': 100}, 0.8582636603028309)"
      ]
     },
     "execution_count": 86,
     "metadata": {},
     "output_type": "execute_result"
    }
   ],
   "source": [
    "param_test = {\n",
    "    'C':[0.1, 0.5, 0.7, 1, 2,5, 10],\n",
    "    'max_iter':[50, 100, 150, 200, 250]\n",
    "}\n",
    "gsearch = GridSearchCV(estimator = LogisticRegression(),\n",
    "                        param_grid = param_test, scoring='roc_auc',n_jobs=4,iid=False, cv=5)\n",
    "\n",
    "gsearch.fit(train_new_feature2, y)\n",
    "gsearch.best_params_, gsearch.best_score_"
   ]
  },
  {
   "cell_type": "code",
   "execution_count": 87,
   "metadata": {
    "ExecuteTime": {
     "end_time": "2020-05-14T03:19:53.950913Z",
     "start_time": "2020-05-14T03:19:52.505515Z"
    }
   },
   "outputs": [
    {
     "name": "stdout",
     "output_type": "stream",
     "text": [
      "Validation log loss: 0.4440\n",
      "Validation accuracy: 0.7983\n",
      "Validation auc:0.8697\n"
     ]
    }
   ],
   "source": [
    "cv = ShuffleSplit(n_splits=5, test_size=0.3, random_state=20)\n",
    "lr_model = LogisticRegression(C=0.1, max_iter=100)\n",
    "\n",
    "# neg_log_loss 算的是负样本的 log_loss，其实就是在 log_loss 取负数\n",
    "xgb_lr_acc = cross_val_score(lr_model, train_new_feature2, y, cv=cv).mean()\n",
    "xgb_lr_auc = cross_val_score(lr_model, train_new_feature2, y, cv=cv, scoring=\"roc_auc\").mean()\n",
    "xgb_lr_log_loss = -cross_val_score(lr_model, train_new_feature2, y, cv=cv, scoring=\"neg_log_loss\").mean()\n",
    "\n",
    "\n",
    "xgb_lr_fpr_list = list()\n",
    "xgb_lr_tpr_list = list()\n",
    "\n",
    "print(\"Validation log loss: %.4f\" % xgb_lr_log_loss)\n",
    "print(\"Validation accuracy: %.4f\" % xgb_lr_acc)\n",
    "print(\"Validation auc:%.4f\" % xgb_lr_auc)\n",
    "\n",
    "# 控制变量\n",
    "# 统一以最后一则交叉验证作为 histgram 的可视化\n",
    "for index, fold in enumerate(cv.split(X)):\n",
    "#     if index == 4:\n",
    "    train_data_index, test_data_index = fold\n",
    "    X_train = train_new_feature2[train_data_index, :]\n",
    "    y_train = y[train_data_index]\n",
    "    X_test = train_new_feature2[test_data_index, :]\n",
    "    y_test = y[test_data_index]\n",
    "\n",
    "    LR = LogisticRegression()\n",
    "    LR.fit(X_train, y_train)\n",
    "    xgb_lr_y_pred_proba = LR.predict_proba(X_test)\n",
    "#         plt.figure(figsize=(10,5))\n",
    "#         plt.xlabel(\"Xgboost+LogisticRegression predict probability histgram\")\n",
    "#         sns.distplot(lr_y_pred_proba, bins=20)\n",
    "    fpr, tpr, threshold = roc_curve(y_test, LR.predict(X_test))\n",
    "    xgb_lr_fpr_list.append(fpr);xgb_lr_tpr_list.append(tpr)"
   ]
  },
  {
   "cell_type": "markdown",
   "metadata": {},
   "source": [
    "## 模型ROC曲线"
   ]
  },
  {
   "cell_type": "code",
   "execution_count": 32,
   "metadata": {
    "ExecuteTime": {
     "end_time": "2020-05-12T02:50:40.446880Z",
     "start_time": "2020-05-12T02:50:40.200171Z"
    }
   },
   "outputs": [
    {
     "data": {
      "text/plain": [
       "(0.0, 1.0)"
      ]
     },
     "execution_count": 32,
     "metadata": {},
     "output_type": "execute_result"
    },
    {
     "data": {
      "image/png": "[encoded data removed]",
      "text/plain": [
       "<Figure size 720x720 with 1 Axes>"
      ]
     },
     "metadata": {},
     "output_type": "display_data"
    }
   ],
   "source": [
    "xgb_lr_fpr = sum(xgb_lr_fpr_list)/5\n",
    "xgb_lr_tpr = sum(xgb_lr_tpr_list)/5\n",
    "# lw = 2\n",
    "\n",
    "plt.figure(figsize=(10,10))\n",
    "plt.plot(xgb_lr_fpr, xgb_lr_tpr, color='red',\n",
    "         ) ###假正率为横坐标，真正率为纵坐标做曲线\n",
    "plt.plot([0, 1], [0, 1], color='navy', lw=lw, linestyle='--')\n",
    "plt.xlim([0.0, 1.0])\n",
    "plt.ylim([0.0, 1.00])"
   ]
  },
  {
   "cell_type": "code",
   "execution_count": 82,
   "metadata": {
    "ExecuteTime": {
     "end_time": "2020-05-14T03:09:02.506928Z",
     "start_time": "2020-05-14T03:09:02.338498Z"
    }
   },
   "outputs": [
    {
     "data": {
      "text/plain": [
       "(0.0, 1.0)"
      ]
     },
     "execution_count": 82,
     "metadata": {},
     "output_type": "execute_result"
    },
    {
     "data": {
      "image/png": "[encoded data removed]",
      "text/plain": [
       "<Figure size 720x720 with 1 Axes>"
      ]
     },
     "metadata": {
      "needs_background": "light"
     },
     "output_type": "display_data"
    }
   ],
   "source": [
    "xgb_lr_fpr = sum(xgb_lr_fpr_list)/5\n",
    "xgb_lr_tpr = sum(xgb_lr_tpr_list)/5\n",
    "# lw = 2\n",
    "\n",
    "plt.figure(figsize=(10,10))\n",
    "plt.plot(xgb_lr_fpr, xgb_lr_tpr, color='red',\n",
    "         ) ###假正率为横坐标，真正率为纵坐标做曲线\n",
    "plt.plot([0, 1], [0, 1], color='navy', lw=2, linestyle='--')\n",
    "plt.xlim([0.0, 1.0])\n",
    "plt.ylim([0.0, 1.00])"
   ]
  },
  {
   "cell_type": "markdown",
   "metadata": {},
   "source": [
    "## Xgboost + FM"
   ]
  },
  {
   "cell_type": "code",
   "execution_count": 33,
   "metadata": {
    "ExecuteTime": {
     "end_time": "2020-05-12T02:50:51.171033Z",
     "start_time": "2020-05-12T02:50:51.094574Z"
    }
   },
   "outputs": [],
   "source": [
    "store_list2 = []\n",
    "\n",
    "for i in train_new_feature2:\n",
    "    d = dict()\n",
    "    for index, j in enumerate(i):\n",
    "        d[index] = j\n",
    "    store_list2.append(d)"
   ]
  },
  {
   "cell_type": "code",
   "execution_count": 34,
   "metadata": {
    "ExecuteTime": {
     "end_time": "2020-05-12T03:06:53.838496Z",
     "start_time": "2020-05-12T03:05:48.800832Z"
    }
   },
   "outputs": [
    {
     "name": "stdout",
     "output_type": "stream",
     "text": [
      "Validation log loss: 0.7244\n",
      "Validation accuracy: 0.7217\n",
      "Validation auc:0.7961\n"
     ]
    },
    {
     "data": {
      "text/plain": [
       "(0.0, 1.0)"
      ]
     },
     "execution_count": 34,
     "metadata": {},
     "output_type": "execute_result"
    },
    {
     "data": {
      "image/png": "[encoded data removed]",
      "text/plain": [
       "<Figure size 720x720 with 1 Axes>"
      ]
     },
     "metadata": {},
     "output_type": "display_data"
    }
   ],
   "source": [
    "xgb_fm_log_loss_y = []\n",
    "xgb_fm_acc_y = []\n",
    "xgb_fm_auc_y = []\n",
    "counter = 0\n",
    "\n",
    "xgb_fm_fpr_list = []\n",
    "xgb_fm_tpr_list = []\n",
    "\n",
    "for fold in cv.split(store_list2):\n",
    "    train_data_index, test_data_index = fold\n",
    "    X_train = []\n",
    "    X_test = []\n",
    "    y_train = []\n",
    "    y_test = []\n",
    "    for index in train_data_index:\n",
    "        X_train.append(store_list2[index])\n",
    "        y_train.append(y[index])\n",
    "        \n",
    "    for index in test_data_index:\n",
    "        X_test.append(store_list2[index])\n",
    "        y_test.append(y[index])\n",
    "    \n",
    "    v = DictVectorizer()\n",
    "    X_train = v.fit_transform(X_train)\n",
    "    X_test = v.transform(X_test)\n",
    "    \n",
    "    fm = pylibfm.FM(num_factors=10, \n",
    "                num_iter=20, \n",
    "                verbose=False, \n",
    "                task=\"classification\", \n",
    "                initial_learning_rate=0.01, \n",
    "                learning_rate_schedule=\"optimal\"\n",
    "               )\n",
    "    fm.fit(X_train, y_train)\n",
    "\n",
    "    y_pred_proba = fm.predict(X_test)\n",
    "    y_preds_label = y_pred_proba > 0.5\n",
    "    fpr, tpr, threshold = roc_curve(y_test, y_preds_label)\n",
    "    xgb_fm_fpr_list.append(fpr);xgb_fm_tpr_list.append(tpr)\n",
    "#     if counter == 4:\n",
    "#         plt.figure(figsize=(10,5))\n",
    "#         plt.xlabel(\"Xgboost+Factorization Machine predict probability histgram\")\n",
    "#         sns.distplot(y_pred_proba, bins=20)\n",
    "#     counter += 1\n",
    "    \n",
    "    _log_loss = log_loss(y_test, y_pred_proba)\n",
    "    _acc = accuracy_score(y_test, y_preds_label)\n",
    "    _auc = roc_auc_score(y_test, y_pred_proba)\n",
    "    xgb_fm_log_loss_y.append(_log_loss)\n",
    "    xgb_fm_acc_y.append(_acc)\n",
    "    xgb_fm_auc_y.append(_auc)\n",
    "\n",
    "\n",
    "xgb_fm_log_loss = np.array(xgb_fm_log_loss_y).mean()\n",
    "xgb_fm_acc = np.array(xgb_fm_acc_y).mean()\n",
    "xgb_fm_auc = np.array(xgb_fm_auc_y).mean()\n",
    "print(\"Validation log loss: %.4f\" % xgb_fm_log_loss)\n",
    "print(\"Validation accuracy: %.4f\" % xgb_fm_acc)\n",
    "print(\"Validation auc:%.4f\" % xgb_fm_auc)\n",
    "\n",
    "xgb_fm_y_pred_proba = y_pred_proba\n",
    "\n",
    "\n",
    "xgb_fm_fpr = sum(xgb_fm_fpr_list)/5\n",
    "xgb_fm_tpr = sum(xgb_fm_tpr_list)/5\n",
    "# lw = 2\n",
    "\n",
    "plt.figure(figsize=(10,10))\n",
    "plt.plot(xgb_fm_fpr, xgb_fm_tpr, color='yellow',\n",
    "         ) ###假正率为横坐标，真正率为纵坐标做曲线\n",
    "plt.plot([0, 1], [0, 1], color='green', linestyle='--')\n",
    "plt.xlim([0.0, 1.0])\n",
    "plt.ylim([0.0, 1.0])"
   ]
  },
  {
   "cell_type": "markdown",
   "metadata": {},
   "source": [
    "## 汇总"
   ]
  },
  {
   "cell_type": "code",
   "execution_count": 58,
   "metadata": {
    "ExecuteTime": {
     "end_time": "2020-05-12T08:50:09.988548Z",
     "start_time": "2020-05-12T08:50:09.674583Z"
    }
   },
   "outputs": [
    {
     "data": {
      "text/plain": [
       "<matplotlib.legend.Legend at 0x7f2b5f887a10>"
      ]
     },
     "execution_count": 58,
     "metadata": {},
     "output_type": "execute_result"
    },
    {
     "data": {
      "image/png": "[encoded data removed]",
      "text/plain": [
       "<Figure size 576x576 with 1 Axes>"
      ]
     },
     "metadata": {},
     "output_type": "display_data"
    }
   ],
   "source": [
    "# roc曲线对比\n",
    "plt.figure(figsize=(8,8))\n",
    "plt.plot(lr_fpr, lr_tpr, color='darkorange',lw=2,\n",
    "         label='ROC curve of LR (area = {0:0.4f}'.format(auc(lr_fpr, lr_tpr)))\n",
    "\n",
    "plt.plot(fm_fpr, fm_tpr, color='cornflowerblue',lw=2,\n",
    "         label='ROC curve of FM (area = {0:0.4f}'.format(auc(fm_fpr, fm_tpr))) \n",
    "\n",
    "plt.plot(xgb_lr_fpr, xgb_lr_tpr, color='red',\n",
    "         label='ROC curve of Xgb+LR (area = {0:0.4f}'.format(auc(xgb_lr_fpr, xgb_lr_tpr)))\n",
    "\n",
    "plt.plot(xgb_fm_fpr, xgb_fm_tpr, color='green',\n",
    "         label='ROC curve of Xgb+FM (area = {0:0.4f}'.format(auc(xgb_fm_fpr, xgb_fm_tpr)))\n",
    "plt.plot([0, 1], [0, 1], color='navy', linestyle='--')\n",
    "plt.xlim([0.0, 1.0])\n",
    "plt.ylim([0.0, 1.00])\n",
    "plt.xlabel(\"False Positive Rate\")\n",
    "plt.ylabel(\"True Positive Rate\")\n",
    "plt.legend()"
   ]
  },
  {
   "cell_type": "markdown",
   "metadata": {},
   "source": [
    "## 不同模型的评估指标对比"
   ]
  },
  {
   "cell_type": "code",
   "execution_count": 12,
   "metadata": {
    "ExecuteTime": {
     "end_time": "2020-05-10T12:29:13.598444Z",
     "start_time": "2020-05-10T12:29:13.594466Z"
    }
   },
   "outputs": [
    {
     "data": {
      "text/plain": [
       "(0.0004393827170300171,\n",
       " 0.0015939398242846008,\n",
       " 0.6607333964740537,\n",
       " 0.6664767562822027)"
      ]
     },
     "execution_count": 12,
     "metadata": {},
     "output_type": "execute_result"
    }
   ],
   "source": [
    "x = xgb_fm_log_loss, xgb_lr_log_loss, lr_log_loss, fm_log_loss\n",
    "x"
   ]
  },
  {
   "cell_type": "code",
   "execution_count": 13,
   "metadata": {
    "ExecuteTime": {
     "end_time": "2020-05-10T12:29:13.904220Z",
     "start_time": "2020-05-10T12:29:13.600315Z"
    }
   },
   "outputs": [
    {
     "data": {
      "text/plain": [
       "<matplotlib.axes._subplots.AxesSubplot at 0x7f9271975d90>"
      ]
     },
     "execution_count": 13,
     "metadata": {},
     "output_type": "execute_result"
    },
    {
     "data": {
      "image/png": "[encoded data removed]",
      "text/plain": [
       "<Figure size 432x288 with 1 Axes>"
      ]
     },
     "metadata": {},
     "output_type": "display_data"
    }
   ],
   "source": [
    "plt.title(\"Single Model\")\n",
    "plt.ylabel(\"log_loss\")\n",
    "sns.barplot(x=[\"LR\", \"FM\"], y=x[2:])"
   ]
  },
  {
   "cell_type": "code",
   "execution_count": 14,
   "metadata": {
    "ExecuteTime": {
     "end_time": "2020-05-10T12:29:14.027759Z",
     "start_time": "2020-05-10T12:29:13.905655Z"
    }
   },
   "outputs": [
    {
     "data": {
      "text/plain": [
       "<matplotlib.axes._subplots.AxesSubplot at 0x7f92718f4990>"
      ]
     },
     "execution_count": 14,
     "metadata": {},
     "output_type": "execute_result"
    },
    {
     "data": {
      "image/png": "[encoded data removed]",
      "text/plain": [
       "<Figure size 432x288 with 1 Axes>"
      ]
     },
     "metadata": {},
     "output_type": "display_data"
    }
   ],
   "source": [
    "plt.title(\"Ensemble Model\")\n",
    "plt.ylabel(\"log_loss\")\n",
    "sns.barplot(x=[\"Xgboost+FM\", \"Xgboost+LR\"], y=x[:2], palette=\"rocket\")"
   ]
  },
  {
   "cell_type": "code",
   "execution_count": 15,
   "metadata": {
    "ExecuteTime": {
     "end_time": "2020-05-10T12:29:14.190554Z",
     "start_time": "2020-05-10T12:29:14.028711Z"
    }
   },
   "outputs": [
    {
     "data": {
      "text/plain": [
       "<matplotlib.axes._subplots.AxesSubplot at 0x7f927190a450>"
      ]
     },
     "execution_count": 15,
     "metadata": {},
     "output_type": "execute_result"
    },
    {
     "data": {
      "image/png": "[encoded data removed]",
      "text/plain": [
       "<Figure size 432x288 with 1 Axes>"
      ]
     },
     "metadata": {},
     "output_type": "display_data"
    }
   ],
   "source": [
    "# plt.figure(figsize=(10, 10))\n",
    "plt.title(\"AUC Score\")\n",
    "plt.ylabel(\"AUC\")\n",
    "sns.barplot(x=[\"LR\", \"FM\", \"Xgboost+LR\", \"Xgboost+FM\"], y=[lr_auc, fm_auc, xgb_lr_auc, xgb_fm_auc])"
   ]
  },
  {
   "cell_type": "markdown",
   "metadata": {},
   "source": [
    "## 对 Xgboost+FM进行调参处理，得到 log_loss 最小的那个模型"
   ]
  },
  {
   "cell_type": "code",
   "execution_count": null,
   "metadata": {},
   "outputs": [],
   "source": []
  }
 ],
 "metadata": {
  "kernelspec": {
   "display_name": "Python 3",
   "language": "python",
   "name": "python3"
  },
  "language_info": {
   "codemirror_mode": {
    "name": "ipython",
    "version": 3
   },
   "file_extension": ".py",
   "mimetype": "text/x-python",
   "name": "python",
   "nbconvert_exporter": "python",
   "pygments_lexer": "ipython3",
   "version": "3.7.4"
  },
  "toc": {
   "base_numbering": 1,
   "nav_menu": {},
   "number_sections": true,
   "sideBar": true,
   "skip_h1_title": false,
   "title_cell": "Table of Contents",
   "title_sidebar": "Contents",
   "toc_cell": true,
   "toc_position": {},
   "toc_section_display": true,
   "toc_window_display": false
  },
  "varInspector": {
   "cols": {
    "lenName": 16,
    "lenType": 16,
    "lenVar": 40
   },
   "kernels_config": {
    "python": {
     "delete_cmd_postfix": "",
     "delete_cmd_prefix": "del ",
     "library": "var_list.py",
     "varRefreshCmd": "print(var_dic_list())"
    },
    "r": {
     "delete_cmd_postfix": ") ",
     "delete_cmd_prefix": "rm(",
     "library": "var_list.r",
     "varRefreshCmd": "cat(var_dic_list()) "
    }
   },
   "position": {
    "height": "445.4px",
    "left": "1139px",
    "right": "20px",
    "top": "69px",
    "width": "328.4px"
   },
   "types_to_exclude": [
    "module",
    "function",
    "builtin_function_or_method",
    "instance",
    "_Feature"
   ],
   "window_display": false
  }
 },
 "nbformat": 4,
 "nbformat_minor": 4
}
